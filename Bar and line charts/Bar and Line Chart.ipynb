{
 "cells": [
  {
   "cell_type": "code",
   "execution_count": 1,
   "id": "b59c186b-38dc-4bf0-a3cf-5d2a932a09a6",
   "metadata": {},
   "outputs": [],
   "source": [
    "#load the packages\n",
    "import pandas as pd\n",
    "import matplotlib.pyplot as plt\n",
    "from matplotlib.ticker import PercentFormatter"
   ]
  },
  {
   "cell_type": "code",
   "execution_count": 2,
   "id": "dcc638c2-ed4b-4ed4-a5d0-7f0c69ca99eb",
   "metadata": {},
   "outputs": [],
   "source": [
    "df_kdnuggets=pd.read_csv(\"//Users//motolanikay-salami//Downloads//bar_line_chart_data.csv\")"
   ]
  },
  {
   "cell_type": "code",
   "execution_count": 3,
   "id": "d79f0e0a-87f4-478b-8a37-92a1964f1e82",
   "metadata": {},
   "outputs": [
    {
     "data": {
      "text/html": [
       "<div>\n",
       "<style scoped>\n",
       "    .dataframe tbody tr th:only-of-type {\n",
       "        vertical-align: middle;\n",
       "    }\n",
       "\n",
       "    .dataframe tbody tr th {\n",
       "        vertical-align: top;\n",
       "    }\n",
       "\n",
       "    .dataframe thead th {\n",
       "        text-align: right;\n",
       "    }\n",
       "</style>\n",
       "<table border=\"1\" class=\"dataframe\">\n",
       "  <thead>\n",
       "    <tr style=\"text-align: right;\">\n",
       "      <th></th>\n",
       "      <th>Year</th>\n",
       "      <th>Python Users</th>\n",
       "      <th>Participants</th>\n",
       "    </tr>\n",
       "  </thead>\n",
       "  <tbody>\n",
       "    <tr>\n",
       "      <th>0</th>\n",
       "      <td>2012</td>\n",
       "      <td>0.149</td>\n",
       "      <td>798</td>\n",
       "    </tr>\n",
       "    <tr>\n",
       "      <th>1</th>\n",
       "      <td>2013</td>\n",
       "      <td>0.133</td>\n",
       "      <td>1880</td>\n",
       "    </tr>\n",
       "    <tr>\n",
       "      <th>2</th>\n",
       "      <td>2014</td>\n",
       "      <td>0.195</td>\n",
       "      <td>3285</td>\n",
       "    </tr>\n",
       "    <tr>\n",
       "      <th>3</th>\n",
       "      <td>2015</td>\n",
       "      <td>0.303</td>\n",
       "      <td>2800</td>\n",
       "    </tr>\n",
       "    <tr>\n",
       "      <th>4</th>\n",
       "      <td>2016</td>\n",
       "      <td>0.458</td>\n",
       "      <td>2895</td>\n",
       "    </tr>\n",
       "    <tr>\n",
       "      <th>5</th>\n",
       "      <td>2017</td>\n",
       "      <td>0.526</td>\n",
       "      <td>2900</td>\n",
       "    </tr>\n",
       "    <tr>\n",
       "      <th>6</th>\n",
       "      <td>2018</td>\n",
       "      <td>0.656</td>\n",
       "      <td>2300</td>\n",
       "    </tr>\n",
       "    <tr>\n",
       "      <th>7</th>\n",
       "      <td>2019</td>\n",
       "      <td>0.658</td>\n",
       "      <td>1800</td>\n",
       "    </tr>\n",
       "  </tbody>\n",
       "</table>\n",
       "</div>"
      ],
      "text/plain": [
       "   Year  Python Users  Participants\n",
       "0  2012         0.149           798\n",
       "1  2013         0.133          1880\n",
       "2  2014         0.195          3285\n",
       "3  2015         0.303          2800\n",
       "4  2016         0.458          2895\n",
       "5  2017         0.526          2900\n",
       "6  2018         0.656          2300\n",
       "7  2019         0.658          1800"
      ]
     },
     "execution_count": 3,
     "metadata": {},
     "output_type": "execute_result"
    }
   ],
   "source": [
    "df_kdnuggets"
   ]
  },
  {
   "cell_type": "code",
   "execution_count": 4,
   "id": "9a36f47c-f948-409c-aec5-247c913ade23",
   "metadata": {},
   "outputs": [
    {
     "data": {
      "image/png": "[encoded data removed]",
      "text/plain": [
       "<Figure size 720x504 with 2 Axes>"
      ]
     },
     "metadata": {
      "needs_background": "light"
     },
     "output_type": "display_data"
    }
   ],
   "source": [
    "fig,ax=plt.subplots(figsize=(10,7))\n",
    "\n",
    "ax.bar(df_kdnuggets[\"Year\"],\n",
    "       df_kdnuggets[\"Participants\"],\n",
    "       color=\"k\")\n",
    "ax.set_ylabel(\"Number of Participants\",\n",
    "             weight=\"bold\")\n",
    "ax.tick_params(axis=\"y\",\n",
    "               width=2,\n",
    "               labelsize=\"large\")\n",
    "ax1=ax.twinx()\n",
    "ax1.set_ylim(0,1)\n",
    "ax1.yaxis.set_major_formatter(PercentFormatter(xmax=1.0))\n",
    "ax1.plot(df_kdnuggets[\"Year\"],\n",
    "         df_kdnuggets[\"Python Users\"],\n",
    "         color=\"#b60000\",\n",
    "         marker=\"D\")\n",
    "ax1.set_ylabel(\"Python Users\",\n",
    "               color=\"#b60000\",\n",
    "               weight=\"bold\")\n",
    "ax1.tick_params(axis=\"y\",\n",
    "                colors=\"#b60000\",\n",
    "                width=2,\n",
    "                labelsize=\"large\")\n",
    "ax.set_title(\"KD Nuggets Survey Python Uers (2012-2019)\", fontsize=14, fontweight=\"bold\")\n",
    "plt.savefig(\"Bar and line charts.png\")"
   ]
  },
  {
   "cell_type": "code",
   "execution_count": null,
   "id": "9b2ba454-a964-4510-892e-78933b7d3adb",
   "metadata": {},
   "outputs": [],
   "source": []
  }
 ],
 "metadata": {
  "kernelspec": {
   "display_name": "Python 3 (ipykernel)",
   "language": "python",
   "name": "python3"
  },
  "language_info": {
   "codemirror_mode": {
    "name": "ipython",
    "version": 3
   },
   "file_extension": ".py",
   "mimetype": "text/x-python",
   "name": "python",
   "nbconvert_exporter": "python",
   "pygments_lexer": "ipython3",
   "version": "3.9.7"
  }
 },
 "nbformat": 4,
 "nbformat_minor": 5
}
